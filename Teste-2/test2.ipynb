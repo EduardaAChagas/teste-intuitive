{
  "nbformat": 4,
  "nbformat_minor": 0,
  "metadata": {
    "colab": {
      "provenance": []
    },
    "kernelspec": {
      "name": "python3",
      "display_name": "Python 3"
    },
    "language_info": {
      "name": "python"
    }
  },
  "cells": [
    {
      "cell_type": "code",
      "execution_count": 3,
      "metadata": {
        "colab": {
          "base_uri": "https://localhost:8080/"
        },
        "id": "-X7HJpIsW7Cz",
        "outputId": "b1f93ae6-2fe6-47fd-995d-3fea1cd733c8"
      },
      "outputs": [
        {
          "output_type": "stream",
          "name": "stdout",
          "text": [
            "Looking in indexes: https://pypi.org/simple, https://us-python.pkg.dev/colab-wheels/public/simple/\n",
            "Requirement already satisfied: tabula-py in /usr/local/lib/python3.8/dist-packages (2.6.0)\n",
            "Requirement already satisfied: distro in /usr/local/lib/python3.8/dist-packages (from tabula-py) (1.8.0)\n",
            "Requirement already satisfied: pandas>=0.25.3 in /usr/local/lib/python3.8/dist-packages (from tabula-py) (1.3.5)\n",
            "Requirement already satisfied: numpy in /usr/local/lib/python3.8/dist-packages (from tabula-py) (1.21.6)\n",
            "Requirement already satisfied: python-dateutil>=2.7.3 in /usr/local/lib/python3.8/dist-packages (from pandas>=0.25.3->tabula-py) (2.8.2)\n",
            "Requirement already satisfied: pytz>=2017.3 in /usr/local/lib/python3.8/dist-packages (from pandas>=0.25.3->tabula-py) (2022.7)\n",
            "Requirement already satisfied: six>=1.5 in /usr/local/lib/python3.8/dist-packages (from python-dateutil>=2.7.3->pandas>=0.25.3->tabula-py) (1.15.0)\n"
          ]
        }
      ],
      "source": [
        "!pip install tabula-py"
      ]
    },
    {
      "cell_type": "code",
      "source": [
        "import tabula\n",
        "import os\n",
        "import zipfile"
      ],
      "metadata": {
        "id": "T3kGyXGRXLHq"
      },
      "execution_count": 26,
      "outputs": []
    },
    {
      "cell_type": "code",
      "source": [
        "file = \"anexo0.pdf\"\n",
        "try:\n",
        "  os.makedirs(\"csvs\")\n",
        "except:\n",
        "  print(\"Diretorio já existe\")"
      ],
      "metadata": {
        "id": "pbL5WE-IXWtk"
      },
      "execution_count": 4,
      "outputs": []
    },
    {
      "cell_type": "code",
      "source": [
        "tabelas = tabula.read_pdf(file, pages='all')\n",
        "print(len(tabelas))"
      ],
      "metadata": {
        "colab": {
          "base_uri": "https://localhost:8080/"
        },
        "id": "cOW7ld3jYn6Z",
        "outputId": "51db2028-15ed-40a6-d59b-5f96c6c7c2c3"
      },
      "execution_count": 7,
      "outputs": [
        {
          "output_type": "stream",
          "name": "stderr",
          "text": [
            "WARNING:tabula.io:Got stderr: Jan 26, 2023 4:47:41 AM org.apache.pdfbox.pdmodel.font.FileSystemFontProvider loadDiskCache\n",
            "WARNING: New fonts found, font cache will be re-built\n",
            "Jan 26, 2023 4:47:41 AM org.apache.pdfbox.pdmodel.font.FileSystemFontProvider <init>\n",
            "WARNING: Building on-disk font cache, this may take a while\n",
            "Jan 26, 2023 4:47:41 AM org.apache.pdfbox.pdmodel.font.FileSystemFontProvider <init>\n",
            "WARNING: Finished building on-disk font cache, found 17 fonts\n",
            "\n"
          ]
        },
        {
          "output_type": "stream",
          "name": "stdout",
          "text": [
            "284\n"
          ]
        }
      ]
    },
    {
      "cell_type": "code",
      "source": [
        "for index,tabela in enumerate(tabelas):\n",
        "  tabela = tabela.rename(columns={\"RN\\r(alteração)\" : \"RN (alteração)\", \"CAPÍTULO\" : \"CAPITULO\"})\n",
        "  try:\n",
        "    tabela[\"PROCEDIMENTO\"] = tabela[\"PROCEDIMENTO\"].str.replace('\\r',' ')\n",
        "    tabela[\"CAPITULO\"] = tabela[\"CAPITULO\"].str.replace('\\r',' ')\n",
        "    tabela[\"GRUPO\"] = tabela[\"GRUPO\"].str.replace('\\r',' ')\n",
        "  except:\n",
        "    print(index)\n",
        "    break\n",
        "  tabela.to_csv(\"csvs/tabela\"+str(index)+\".csv\")\n"
      ],
      "metadata": {
        "colab": {
          "base_uri": "https://localhost:8080/"
        },
        "id": "-ie5kyojZJIj",
        "outputId": "608a2e2f-f2eb-4d72-c6f4-92e333cc45ad"
      },
      "execution_count": 25,
      "outputs": [
        {
          "output_type": "stream",
          "name": "stdout",
          "text": [
            "131\n"
          ]
        }
      ]
    },
    {
      "cell_type": "code",
      "source": [
        "def zipPasta(path, ziph):\n",
        "    for root, dirs, files in os.walk(path):\n",
        "        for file in files:\n",
        "            ziph.write(os.path.join(root, file))"
      ],
      "metadata": {
        "id": "dvqd5X9veTXj"
      },
      "execution_count": 27,
      "outputs": []
    },
    {
      "cell_type": "code",
      "source": [
        "    meu_nome = \"Eduarda\"\n",
        "    criarZip = zipfile.ZipFile( 'Teste_'+meu_nome+'.zip', 'w', zipfile.ZIP_DEFLATED)\n",
        "    zipPasta('csvs/',criarZip)\n",
        "    criarZip.close()    "
      ],
      "metadata": {
        "id": "J_W5kkafeLoy"
      },
      "execution_count": 29,
      "outputs": []
    }
  ]
}